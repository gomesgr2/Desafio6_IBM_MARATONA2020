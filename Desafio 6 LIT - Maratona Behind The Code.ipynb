{
 "cells": [
  {
   "cell_type": "markdown",
   "metadata": {
    "collapsed": true
   },
   "source": [
    "# MARATONA BEHIND THE CODE 2020\n",
    "\n",
    "## DESAFIO 6 - LIT"
   ]
  },
  {
   "cell_type": "markdown",
   "metadata": {},
   "source": [
    "<hr>"
   ]
  },
  {
   "cell_type": "markdown",
   "metadata": {},
   "source": [
    "## Installing Libs"
   ]
  },
  {
   "cell_type": "code",
   "execution_count": 1,
   "metadata": {},
   "outputs": [
    {
     "name": "stdout",
     "output_type": "stream",
     "text": [
      "Collecting scikit-learn\n",
      "  Downloading https://files.pythonhosted.org/packages/af/89/73453581aeb9e0b8aac7cf6e9ba014af62b6128e5388e25eb0c7447fedbe/scikit_learn-0.23.2-cp37-cp37m-win32.whl (5.9MB)\n",
      "Requirement already satisfied, skipping upgrade: scipy>=0.19.1 in c:\\users\\cliente\\anaconda31\\lib\\site-packages (from scikit-learn) (1.5.2)\n",
      "Collecting threadpoolctl>=2.0.0 (from scikit-learn)\n",
      "  Downloading https://files.pythonhosted.org/packages/f7/12/ec3f2e203afa394a149911729357aa48affc59c20e2c1c8297a60f33f133/threadpoolctl-2.1.0-py3-none-any.whl\n",
      "Requirement already satisfied, skipping upgrade: joblib>=0.11 in c:\\users\\cliente\\anaconda31\\lib\\site-packages (from scikit-learn) (0.13.2)\n",
      "Requirement already satisfied, skipping upgrade: numpy>=1.13.3 in c:\\users\\cliente\\anaconda31\\lib\\site-packages (from scikit-learn) (1.16.5)\n",
      "Installing collected packages: threadpoolctl, scikit-learn\n",
      "  Found existing installation: scikit-learn 0.20.0\n",
      "    Uninstalling scikit-learn-0.20.0:\n",
      "      Successfully uninstalled scikit-learn-0.20.0\n",
      "Successfully installed scikit-learn-0.23.2 threadpoolctl-2.1.0\n"
     ]
    }
   ],
   "source": [
    "!pip install scikit-learn --upgrade"
   ]
  },
  {
   "cell_type": "code",
   "execution_count": null,
   "metadata": {},
   "outputs": [],
   "source": [
    "!pip install xgboost --upgrade"
   ]
  },
  {
   "cell_type": "code",
   "execution_count": null,
   "metadata": {},
   "outputs": [],
   "source": [
    "!pip install imblearn --upgrade"
   ]
  },
  {
   "cell_type": "markdown",
   "metadata": {},
   "source": [
    "O desafio é predizer perfis de alunos baseado em diversas variáveis "
   ]
  },
  {
   "cell_type": "markdown",
   "metadata": {},
   "source": [
    "<hr>"
   ]
  },
  {
   "cell_type": "markdown",
   "metadata": {},
   "source": [
    "## Download dos conjuntos de dados em formato .csv"
   ]
  },
  {
   "cell_type": "code",
   "execution_count": 1,
   "metadata": {},
   "outputs": [],
   "source": [
    "import pandas as pd"
   ]
  },
  {
   "cell_type": "code",
   "execution_count": 398,
   "metadata": {},
   "outputs": [
    {
     "name": "stdout",
     "output_type": "stream",
     "text": [
      "<class 'pandas.core.frame.DataFrame'>\n",
      "RangeIndex: 15857 entries, 0 to 15856\n",
      "Data columns (total 15 columns):\n",
      " #   Column                      Non-Null Count  Dtype  \n",
      "---  ------                      --------------  -----  \n",
      " 0   id                          13945 non-null  float64\n",
      " 1   graduacao                   13950 non-null  object \n",
      " 2   universidade                13920 non-null  object \n",
      " 3   profissao                   13977 non-null  object \n",
      " 4   organizacao                 13961 non-null  object \n",
      " 5   pretende_fazer_cursos_lit   13989 non-null  float64\n",
      " 6   interesse_mba_lit           14003 non-null  float64\n",
      " 7   importante_ter_certificado  13918 non-null  float64\n",
      " 8   horas_semanais_estudo       13959 non-null  float64\n",
      " 9   como_conheceu_lit           13915 non-null  object \n",
      " 10  total_modulos               13987 non-null  float64\n",
      " 11  modulos_iniciados           14044 non-null  float64\n",
      " 12  modulos_finalizados         13924 non-null  float64\n",
      " 13  certificados                13979 non-null  float64\n",
      " 14  categoria                   15857 non-null  object \n",
      "dtypes: float64(9), object(6)\n",
      "memory usage: 1.5+ MB\n"
     ]
    }
   ],
   "source": [
    "df_training_dataset = pd.read_csv('training_dataset.csv')\n",
    "df_training_dataset.info()"
   ]
  },
  {
   "cell_type": "markdown",
   "metadata": {},
   "source": [
    "Sobre o arquivo \"training_dataset.csv\", temos algumas informações gerais sobre os usuários da plataforma:\n",
    "\n",
    "**id**\n",
    "\n",
    "**graduacao**\n",
    "\n",
    "**universidade**\n",
    "\n",
    "**profissao**\n",
    "\n",
    "**organizacao**\n",
    "\n",
    "**pretende_fazer_cursos_lit**\n",
    "\n",
    "**interesse_mba_lit**\n",
    "\n",
    "**importante_ter_certificado**\n",
    "\n",
    "**horas_semanais_estudo**\n",
    "\n",
    "**como_conheceu_lit**\n",
    "\n",
    "**total_modulos**\n",
    "\n",
    "**modulos_iniciados**\n",
    "\n",
    "**modulos_finalizados**\n",
    "\n",
    "**certificados**\n",
    "\n",
    "**categoria**"
   ]
  },
  {
   "cell_type": "code",
   "execution_count": 399,
   "metadata": {},
   "outputs": [
    {
     "name": "stdout",
     "output_type": "stream",
     "text": [
      "<class 'pandas.core.frame.DataFrame'>\n",
      "RangeIndex: 15857 entries, 0 to 15856\n",
      "Data columns (total 15 columns):\n",
      " #   Column                      Non-Null Count  Dtype  \n",
      "---  ------                      --------------  -----  \n",
      " 0   id                          13945 non-null  float64\n",
      " 1   graduacao                   13950 non-null  object \n",
      " 2   universidade                13920 non-null  object \n",
      " 3   profissao                   13977 non-null  object \n",
      " 4   organizacao                 13961 non-null  object \n",
      " 5   pretende_fazer_cursos_lit   13989 non-null  float64\n",
      " 6   interesse_mba_lit           14003 non-null  float64\n",
      " 7   importante_ter_certificado  13918 non-null  float64\n",
      " 8   horas_semanais_estudo       13959 non-null  float64\n",
      " 9   como_conheceu_lit           13915 non-null  object \n",
      " 10  total_modulos               13987 non-null  float64\n",
      " 11  modulos_iniciados           14044 non-null  float64\n",
      " 12  modulos_finalizados         13924 non-null  float64\n",
      " 13  certificados                13979 non-null  float64\n",
      " 14  categoria                   15857 non-null  object \n",
      "dtypes: float64(9), object(6)\n",
      "memory usage: 1.5+ MB\n"
     ]
    }
   ],
   "source": [
    "df_training_dataset.info()"
   ]
  },
  {
   "cell_type": "code",
   "execution_count": 400,
   "metadata": {},
   "outputs": [
    {
     "data": {
      "text/plain": [
       "id                            13945\n",
       "graduacao                         6\n",
       "universidade                     21\n",
       "profissao                        12\n",
       "organizacao                      11\n",
       "pretende_fazer_cursos_lit         2\n",
       "interesse_mba_lit                 2\n",
       "importante_ter_certificado        1\n",
       "horas_semanais_estudo             9\n",
       "como_conheceu_lit                 9\n",
       "total_modulos                   578\n",
       "modulos_iniciados               372\n",
       "modulos_finalizados             339\n",
       "certificados                     23\n",
       "categoria                         6\n",
       "dtype: int64"
      ]
     },
     "execution_count": 400,
     "metadata": {},
     "output_type": "execute_result"
    }
   ],
   "source": [
    "df_training_dataset.nunique()"
   ]
  },
  {
   "cell_type": "code",
   "execution_count": 401,
   "metadata": {},
   "outputs": [],
   "source": [
    "import numpy as np\n",
    "import matplotlib.pyplot as plt\n",
    "import seaborn as sns"
   ]
  },
  {
   "cell_type": "code",
   "execution_count": 402,
   "metadata": {},
   "outputs": [
    {
     "data": {
      "text/plain": [
       "<AxesSubplot:>"
      ]
     },
     "execution_count": 402,
     "metadata": {},
     "output_type": "execute_result"
    },
    {
     "data": {
      "image/png": "[encoded data removed]",
      "text/plain": [
       "<Figure size 864x576 with 1 Axes>"
      ]
     },
     "metadata": {
      "needs_background": "light"
     },
     "output_type": "display_data"
    }
   ],
   "source": [
    "# Visualização de dados nulos por coluna\n",
    "fig = plt.figure(figsize =(12,8))\n",
    "sns.heatmap(df_training_dataset.isnull(), yticklabels = False, cbar = False, cmap = 'viridis')"
   ]
  },
  {
   "cell_type": "markdown",
   "metadata": {},
   "source": [
    "# Atenção!\n",
    "\n",
    "A coluna-alvo neste desafio é a coluna ``categoria``"
   ]
  },
  {
   "cell_type": "markdown",
   "metadata": {},
   "source": [
    "<hr>"
   ]
  },
  {
   "cell_type": "markdown",
   "metadata": {},
   "source": [
    "## Pre-processando o dataset antes do treinamento"
   ]
  },
  {
   "cell_type": "markdown",
   "metadata": {},
   "source": [
    "### Removendo todas as linhas que possuem algum valor nulos em determinadas colunas"
   ]
  },
  {
   "cell_type": "markdown",
   "metadata": {},
   "source": [
    "Usando o método Pandas **DataFrame.dropna()** você pode remover todas as linhas nulas do dataset.\n",
    "\n",
    "Docs: https://pandas.pydata.org/pandas-docs/stable/reference/api/pandas.DataFrame.dropna.html"
   ]
  },
  {
   "cell_type": "code",
   "execution_count": 403,
   "metadata": {},
   "outputs": [
    {
     "name": "stdout",
     "output_type": "stream",
     "text": [
      "Valores nulos no df_training_dataset antes da transformação DropNA: \n",
      "\n",
      "id                            1912\n",
      "graduacao                     1907\n",
      "universidade                  1937\n",
      "profissao                     1880\n",
      "organizacao                   1896\n",
      "pretende_fazer_cursos_lit     1868\n",
      "interesse_mba_lit             1854\n",
      "importante_ter_certificado    1939\n",
      "horas_semanais_estudo         1898\n",
      "como_conheceu_lit             1942\n",
      "total_modulos                 1870\n",
      "modulos_iniciados             1813\n",
      "modulos_finalizados           1933\n",
      "certificados                  1878\n",
      "categoria                        0\n",
      "dtype: int64\n",
      "\n"
     ]
    }
   ],
   "source": [
    "# Exibindo os dados ausentes do conjunto de dados antes da primeira transformação (df)\n",
    "print(\"Valores nulos no df_training_dataset antes da transformação DropNA: \\n\\n{}\\n\".format(df_training_dataset.isnull().sum(axis = 0)))"
   ]
  },
  {
   "cell_type": "code",
   "execution_count": 404,
   "metadata": {},
   "outputs": [],
   "source": [
    "#dropando valores ausentes\n",
    "df_training_dataset = df_training_dataset.dropna(axis='index', how='any', subset=['certificados', 'total_modulos','modulos_finalizados'])"
   ]
  },
  {
   "cell_type": "code",
   "execution_count": 405,
   "metadata": {
    "scrolled": true
   },
   "outputs": [
    {
     "name": "stdout",
     "output_type": "stream",
     "text": [
      "Valores nulos no df_training_dataset após a transformação DropNA: \n",
      "\n",
      "id                            1296\n",
      "graduacao                     1324\n",
      "universidade                  1286\n",
      "profissao                     1300\n",
      "organizacao                   1298\n",
      "pretende_fazer_cursos_lit     1295\n",
      "interesse_mba_lit             1281\n",
      "importante_ter_certificado    1306\n",
      "horas_semanais_estudo         1306\n",
      "como_conheceu_lit             1308\n",
      "total_modulos                    0\n",
      "modulos_iniciados             1235\n",
      "modulos_finalizados              0\n",
      "certificados                     0\n",
      "categoria                        0\n",
      "dtype: int64\n",
      "\n"
     ]
    }
   ],
   "source": [
    "# Exibindo os dados ausentes do conjunto de dados após a primeira transformação (df)\n",
    "print(\"Valores nulos no df_training_dataset após a transformação DropNA: \\n\\n{}\\n\".format(df_training_dataset.isnull().sum(axis = 0)))"
   ]
  },
  {
   "cell_type": "code",
   "execution_count": 406,
   "metadata": {},
   "outputs": [],
   "source": [
    "# Substituindo valores ausentes pelo método fillna()\n",
    "df_training_dataset['pretende_fazer_cursos_lit'].fillna(0,inplace = True)\n",
    "df_training_dataset['interesse_mba_lit'].fillna(0,inplace = True)\n",
    "df_training_dataset['importante_ter_certificado'].fillna(1,inplace = True)\n",
    "df_training_dataset['horas_semanais_estudo'].fillna(6.016548463356974, inplace = True)"
   ]
  },
  {
   "cell_type": "markdown",
   "metadata": {},
   "source": [
    "### Eliminando colunas indesejadas\n",
    "\n",
    "Vamos **demonstrar** abaixo como usar o método **DataFrame.drop()**.\n",
    "\n",
    "Docs: https://pandas.pydata.org/pandas-docs/stable/reference/api/pandas.DataFrame.drop.html"
   ]
  },
  {
   "cell_type": "code",
   "execution_count": 407,
   "metadata": {},
   "outputs": [
    {
     "data": {
      "text/html": [
       "<div>\n",
       "<style scoped>\n",
       "    .dataframe tbody tr th:only-of-type {\n",
       "        vertical-align: middle;\n",
       "    }\n",
       "\n",
       "    .dataframe tbody tr th {\n",
       "        vertical-align: top;\n",
       "    }\n",
       "\n",
       "    .dataframe thead th {\n",
       "        text-align: right;\n",
       "    }\n",
       "</style>\n",
       "<table border=\"1\" class=\"dataframe\">\n",
       "  <thead>\n",
       "    <tr style=\"text-align: right;\">\n",
       "      <th></th>\n",
       "      <th>id</th>\n",
       "      <th>graduacao</th>\n",
       "      <th>universidade</th>\n",
       "      <th>profissao</th>\n",
       "      <th>organizacao</th>\n",
       "      <th>pretende_fazer_cursos_lit</th>\n",
       "      <th>interesse_mba_lit</th>\n",
       "      <th>importante_ter_certificado</th>\n",
       "      <th>horas_semanais_estudo</th>\n",
       "      <th>como_conheceu_lit</th>\n",
       "      <th>total_modulos</th>\n",
       "      <th>modulos_iniciados</th>\n",
       "      <th>modulos_finalizados</th>\n",
       "      <th>certificados</th>\n",
       "      <th>categoria</th>\n",
       "    </tr>\n",
       "  </thead>\n",
       "  <tbody>\n",
       "    <tr>\n",
       "      <th>15847</th>\n",
       "      <td>722542433.0</td>\n",
       "      <td>Bacharelado</td>\n",
       "      <td>NaN</td>\n",
       "      <td>Engenheiro</td>\n",
       "      <td>servicos</td>\n",
       "      <td>1.0</td>\n",
       "      <td>1.0</td>\n",
       "      <td>1.0</td>\n",
       "      <td>6.0</td>\n",
       "      <td>Outros</td>\n",
       "      <td>515.0</td>\n",
       "      <td>166.0</td>\n",
       "      <td>102.0</td>\n",
       "      <td>0.0</td>\n",
       "      <td>perfil4</td>\n",
       "    </tr>\n",
       "    <tr>\n",
       "      <th>15848</th>\n",
       "      <td>931753956.0</td>\n",
       "      <td>SEM FORMAÇÃO</td>\n",
       "      <td>UFRN</td>\n",
       "      <td>Supervisor</td>\n",
       "      <td>Siderurgica</td>\n",
       "      <td>0.0</td>\n",
       "      <td>0.0</td>\n",
       "      <td>1.0</td>\n",
       "      <td>8.0</td>\n",
       "      <td>Instagram</td>\n",
       "      <td>54.0</td>\n",
       "      <td>37.0</td>\n",
       "      <td>31.0</td>\n",
       "      <td>0.0</td>\n",
       "      <td>perfil2</td>\n",
       "    </tr>\n",
       "    <tr>\n",
       "      <th>15854</th>\n",
       "      <td>480674907.0</td>\n",
       "      <td>Tecnólogo</td>\n",
       "      <td>UNIP</td>\n",
       "      <td>Sócio/Dono/Proprietário</td>\n",
       "      <td>NaN</td>\n",
       "      <td>0.0</td>\n",
       "      <td>0.0</td>\n",
       "      <td>1.0</td>\n",
       "      <td>7.0</td>\n",
       "      <td>Outros</td>\n",
       "      <td>30.0</td>\n",
       "      <td>9.0</td>\n",
       "      <td>8.0</td>\n",
       "      <td>0.0</td>\n",
       "      <td>perfil5</td>\n",
       "    </tr>\n",
       "    <tr>\n",
       "      <th>15855</th>\n",
       "      <td>559626807.0</td>\n",
       "      <td>SEM FORMAÇÃO</td>\n",
       "      <td>UNIVERSIDADE NOVE DE JULHO</td>\n",
       "      <td>Advogado</td>\n",
       "      <td>Estado</td>\n",
       "      <td>0.0</td>\n",
       "      <td>0.0</td>\n",
       "      <td>1.0</td>\n",
       "      <td>10.0</td>\n",
       "      <td>NaN</td>\n",
       "      <td>226.0</td>\n",
       "      <td>102.0</td>\n",
       "      <td>93.0</td>\n",
       "      <td>1.0</td>\n",
       "      <td>perfil1</td>\n",
       "    </tr>\n",
       "    <tr>\n",
       "      <th>15856</th>\n",
       "      <td>743652801.0</td>\n",
       "      <td>NaN</td>\n",
       "      <td>FGV-RJ</td>\n",
       "      <td>NaN</td>\n",
       "      <td>Siderurgica</td>\n",
       "      <td>1.0</td>\n",
       "      <td>1.0</td>\n",
       "      <td>1.0</td>\n",
       "      <td>9.0</td>\n",
       "      <td>Outros</td>\n",
       "      <td>125.0</td>\n",
       "      <td>98.0</td>\n",
       "      <td>97.0</td>\n",
       "      <td>1.0</td>\n",
       "      <td>perfil1</td>\n",
       "    </tr>\n",
       "  </tbody>\n",
       "</table>\n",
       "</div>"
      ],
      "text/plain": [
       "                id     graduacao                universidade  \\\n",
       "15847  722542433.0   Bacharelado                         NaN   \n",
       "15848  931753956.0  SEM FORMAÇÃO                        UFRN   \n",
       "15854  480674907.0     Tecnólogo                        UNIP   \n",
       "15855  559626807.0  SEM FORMAÇÃO  UNIVERSIDADE NOVE DE JULHO   \n",
       "15856  743652801.0           NaN                      FGV-RJ   \n",
       "\n",
       "                     profissao  organizacao  pretende_fazer_cursos_lit  \\\n",
       "15847               Engenheiro     servicos                        1.0   \n",
       "15848               Supervisor  Siderurgica                        0.0   \n",
       "15854  Sócio/Dono/Proprietário          NaN                        0.0   \n",
       "15855                 Advogado       Estado                        0.0   \n",
       "15856                      NaN  Siderurgica                        1.0   \n",
       "\n",
       "       interesse_mba_lit  importante_ter_certificado  horas_semanais_estudo  \\\n",
       "15847                1.0                         1.0                    6.0   \n",
       "15848                0.0                         1.0                    8.0   \n",
       "15854                0.0                         1.0                    7.0   \n",
       "15855                0.0                         1.0                   10.0   \n",
       "15856                1.0                         1.0                    9.0   \n",
       "\n",
       "      como_conheceu_lit  total_modulos  modulos_iniciados  \\\n",
       "15847            Outros          515.0              166.0   \n",
       "15848         Instagram           54.0               37.0   \n",
       "15854            Outros           30.0                9.0   \n",
       "15855               NaN          226.0              102.0   \n",
       "15856            Outros          125.0               98.0   \n",
       "\n",
       "       modulos_finalizados  certificados categoria  \n",
       "15847                102.0           0.0   perfil4  \n",
       "15848                 31.0           0.0   perfil2  \n",
       "15854                  8.0           0.0   perfil5  \n",
       "15855                 93.0           1.0   perfil1  \n",
       "15856                 97.0           1.0   perfil1  "
      ]
     },
     "execution_count": 407,
     "metadata": {},
     "output_type": "execute_result"
    }
   ],
   "source": [
    "df_training_dataset.tail()"
   ]
  },
  {
   "cell_type": "code",
   "execution_count": 408,
   "metadata": {},
   "outputs": [],
   "source": [
    "df__training_dataset = df_training_dataset.drop(columns=['id', 'graduacao', 'universidade', 'organizacao', 'como_conheceu_lit', 'profissao', 'pretende_fazer_cursos_lit','importante_ter_certificado' ], inplace=False)"
   ]
  },
  {
   "cell_type": "code",
   "execution_count": 409,
   "metadata": {},
   "outputs": [
    {
     "data": {
      "text/html": [
       "<div>\n",
       "<style scoped>\n",
       "    .dataframe tbody tr th:only-of-type {\n",
       "        vertical-align: middle;\n",
       "    }\n",
       "\n",
       "    .dataframe tbody tr th {\n",
       "        vertical-align: top;\n",
       "    }\n",
       "\n",
       "    .dataframe thead th {\n",
       "        text-align: right;\n",
       "    }\n",
       "</style>\n",
       "<table border=\"1\" class=\"dataframe\">\n",
       "  <thead>\n",
       "    <tr style=\"text-align: right;\">\n",
       "      <th></th>\n",
       "      <th>profissao</th>\n",
       "      <th>pretende_fazer_cursos_lit</th>\n",
       "      <th>interesse_mba_lit</th>\n",
       "      <th>importante_ter_certificado</th>\n",
       "      <th>horas_semanais_estudo</th>\n",
       "      <th>total_modulos</th>\n",
       "      <th>modulos_iniciados</th>\n",
       "      <th>modulos_finalizados</th>\n",
       "      <th>certificados</th>\n",
       "      <th>categoria</th>\n",
       "    </tr>\n",
       "  </thead>\n",
       "  <tbody>\n",
       "    <tr>\n",
       "      <th>9613</th>\n",
       "      <td>Engenheiro</td>\n",
       "      <td>1.0</td>\n",
       "      <td>1.0</td>\n",
       "      <td>1.0</td>\n",
       "      <td>6.0</td>\n",
       "      <td>515.0</td>\n",
       "      <td>166.0</td>\n",
       "      <td>102.0</td>\n",
       "      <td>0.0</td>\n",
       "      <td>perfil4</td>\n",
       "    </tr>\n",
       "    <tr>\n",
       "      <th>9614</th>\n",
       "      <td>Supervisor</td>\n",
       "      <td>0.0</td>\n",
       "      <td>0.0</td>\n",
       "      <td>1.0</td>\n",
       "      <td>8.0</td>\n",
       "      <td>54.0</td>\n",
       "      <td>37.0</td>\n",
       "      <td>31.0</td>\n",
       "      <td>0.0</td>\n",
       "      <td>perfil2</td>\n",
       "    </tr>\n",
       "    <tr>\n",
       "      <th>9615</th>\n",
       "      <td>Sócio/Dono/Proprietário</td>\n",
       "      <td>0.0</td>\n",
       "      <td>0.0</td>\n",
       "      <td>1.0</td>\n",
       "      <td>7.0</td>\n",
       "      <td>30.0</td>\n",
       "      <td>9.0</td>\n",
       "      <td>8.0</td>\n",
       "      <td>0.0</td>\n",
       "      <td>perfil5</td>\n",
       "    </tr>\n",
       "    <tr>\n",
       "      <th>9616</th>\n",
       "      <td>Advogado</td>\n",
       "      <td>0.0</td>\n",
       "      <td>0.0</td>\n",
       "      <td>1.0</td>\n",
       "      <td>10.0</td>\n",
       "      <td>226.0</td>\n",
       "      <td>102.0</td>\n",
       "      <td>93.0</td>\n",
       "      <td>1.0</td>\n",
       "      <td>perfil1</td>\n",
       "    </tr>\n",
       "    <tr>\n",
       "      <th>9617</th>\n",
       "      <td>Diretor</td>\n",
       "      <td>1.0</td>\n",
       "      <td>1.0</td>\n",
       "      <td>1.0</td>\n",
       "      <td>9.0</td>\n",
       "      <td>125.0</td>\n",
       "      <td>98.0</td>\n",
       "      <td>97.0</td>\n",
       "      <td>1.0</td>\n",
       "      <td>perfil1</td>\n",
       "    </tr>\n",
       "  </tbody>\n",
       "</table>\n",
       "</div>"
      ],
      "text/plain": [
       "                    profissao  pretende_fazer_cursos_lit  interesse_mba_lit  \\\n",
       "9613               Engenheiro                        1.0                1.0   \n",
       "9614               Supervisor                        0.0                0.0   \n",
       "9615  Sócio/Dono/Proprietário                        0.0                0.0   \n",
       "9616                 Advogado                        0.0                0.0   \n",
       "9617                  Diretor                        1.0                1.0   \n",
       "\n",
       "      importante_ter_certificado  horas_semanais_estudo  total_modulos  \\\n",
       "9613                         1.0                    6.0          515.0   \n",
       "9614                         1.0                    8.0           54.0   \n",
       "9615                         1.0                    7.0           30.0   \n",
       "9616                         1.0                   10.0          226.0   \n",
       "9617                         1.0                    9.0          125.0   \n",
       "\n",
       "      modulos_iniciados  modulos_finalizados  certificados categoria  \n",
       "9613              166.0                102.0           0.0   perfil4  \n",
       "9614               37.0                 31.0           0.0   perfil2  \n",
       "9615                9.0                  8.0           0.0   perfil5  \n",
       "9616              102.0                 93.0           1.0   perfil1  \n",
       "9617               98.0                 97.0           1.0   perfil1  "
      ]
     },
     "execution_count": 409,
     "metadata": {},
     "output_type": "execute_result"
    }
   ],
   "source": [
    "df_training_dataset_rmcolumns.tail()"
   ]
  },
  {
   "cell_type": "markdown",
   "metadata": {},
   "source": [
    "## Treinando um classificador com base no método RandomForest"
   ]
  },
  {
   "cell_type": "markdown",
   "metadata": {},
   "source": [
    "### Selecionando FEATURES e definindo a variável TARGET"
   ]
  },
  {
   "cell_type": "code",
   "execution_count": 426,
   "metadata": {},
   "outputs": [
    {
     "data": {
      "text/plain": [
       "Index(['pretende_fazer_cursos_lit', 'interesse_mba_lit',\n",
       "       'importante_ter_certificado', 'horas_semanais_estudo', 'total_modulos',\n",
       "       'modulos_iniciados', 'modulos_finalizados', 'certificados', 'categoria',\n",
       "       'profissao_Advogado', 'profissao_Analista', 'profissao_Analista Senior',\n",
       "       'profissao_Assessor', 'profissao_Coordenador', 'profissao_Diretor',\n",
       "       'profissao_Engenheiro', 'profissao_Gerente', 'profissao_Outros',\n",
       "       'profissao_SEM EXPERIÊNCIA', 'profissao_Supervisor',\n",
       "       'profissao_Sócio/Dono/Proprietário'],\n",
       "      dtype='object')"
      ]
     },
     "execution_count": 426,
     "metadata": {},
     "output_type": "execute_result"
    }
   ],
   "source": [
    "df_training.columns"
   ]
  },
  {
   "cell_type": "code",
   "execution_count": 427,
   "metadata": {},
   "outputs": [],
   "source": [
    "features = df_training[\n",
    "    [ 'interesse_mba_lit', 'horas_semanais_estudo', 'total_modulos',\n",
    "        'modulos_iniciados', 'modulos_finalizados', 'certificados'\n",
    "    ]\n",
    "]\n",
    "target = df_training['categoria']  ## NÃO TROQUE O NOME DA VARIÁVEL TARGET."
   ]
  },
  {
   "cell_type": "markdown",
   "metadata": {},
   "source": [
    "### Dividindo nosso conjunto de dados em conjuntos de treinamento e teste"
   ]
  },
  {
   "cell_type": "code",
   "execution_count": 428,
   "metadata": {},
   "outputs": [],
   "source": [
    "from sklearn.model_selection import train_test_split\n",
    "X_train, X_test, y_train, y_test = train_test_split(features, target, test_size=0.2, random_state=133)"
   ]
  },
  {
   "cell_type": "code",
   "execution_count": 435,
   "metadata": {},
   "outputs": [],
   "source": [
    "#Balanceando os dados\n",
    "from imblearn.over_sampling import SMOTE\n",
    "sm = SMOTE()\n",
    "X_res, y_res = sm.fit_resample(X_train,y_train)"
   ]
  },
  {
   "cell_type": "code",
   "execution_count": 436,
   "metadata": {},
   "outputs": [],
   "source": [
    "# Treinando o modelo com o RandomForestClassifier\n",
    "from sklearn.ensemble import RandomForestClassifier\n",
    "dtc = RandomForestClassifier(max_depth=15, n_estimators = 500).fit(X_res, y_res)"
   ]
  },
  {
   "cell_type": "markdown",
   "metadata": {},
   "source": [
    "### Fazendo previsões na amostra de teste"
   ]
  },
  {
   "cell_type": "code",
   "execution_count": 437,
   "metadata": {},
   "outputs": [
    {
     "name": "stdout",
     "output_type": "stream",
     "text": [
      "['perfil2' 'perfil5' 'perfil6' ... 'perfil2' 'perfil1' 'perfil1']\n"
     ]
    }
   ],
   "source": [
    "y_pred = dtc.predict(X_test)\n",
    "print(y_pred)"
   ]
  },
  {
   "cell_type": "markdown",
   "metadata": {},
   "source": [
    "### Analisando a qualidade do modelo através da matriz de confusão"
   ]
  },
  {
   "cell_type": "code",
   "execution_count": 438,
   "metadata": {},
   "outputs": [],
   "source": [
    "import matplotlib.pyplot as plt\n",
    "import numpy as np\n",
    "import itertools\n",
    "\n",
    "\n",
    "def plot_confusion_matrix(cm, target_names, title='Confusion matrix', cmap=None, normalize=True):\n",
    "    accuracy = np.trace(cm) / float(np.sum(cm))\n",
    "    misclass = 1 - accuracy\n",
    "    if cmap is None:\n",
    "        cmap = plt.get_cmap('Blues')\n",
    "    plt.figure(figsize=(8, 6))\n",
    "    plt.imshow(cm, interpolation='nearest', cmap=cmap)\n",
    "    plt.title(title)\n",
    "    plt.colorbar()\n",
    "    if target_names is not None:\n",
    "        tick_marks = np.arange(len(target_names))\n",
    "        plt.xticks(tick_marks, target_names, rotation=45)\n",
    "        plt.yticks(tick_marks, target_names)\n",
    "    if normalize:\n",
    "        cm = cm.astype('float') / cm.sum(axis=1)[:, np.newaxis]\n",
    "    thresh = cm.max() / 1.5 if normalize else cm.max() / 2\n",
    "    for i, j in itertools.product(range(cm.shape[0]), range(cm.shape[1])):\n",
    "        if normalize:\n",
    "            plt.text(j, i, \"{:0.4f}\".format(cm[i, j]),\n",
    "                     horizontalalignment=\"center\",\n",
    "                     color=\"white\" if cm[i, j] > thresh else \"black\")\n",
    "        else:\n",
    "            plt.text(j, i, \"{:,}\".format(cm[i, j]),\n",
    "                     horizontalalignment=\"center\",\n",
    "                     color=\"white\" if cm[i, j] > thresh else \"black\")\n",
    "    plt.tight_layout()\n",
    "    plt.ylabel('True label')\n",
    "    plt.xlabel('Predicted label\\naccuracy={:0.4f}; misclass={:0.4f}'.format(accuracy, misclass))\n",
    "    plt.show()"
   ]
  },
  {
   "cell_type": "code",
   "execution_count": 417,
   "metadata": {},
   "outputs": [
    {
     "data": {
      "image/png": "[encoded data removed]",
      "text/plain": [
       "<Figure size 576x432 with 2 Axes>"
      ]
     },
     "metadata": {
      "needs_background": "light"
     },
     "output_type": "display_data"
    }
   ],
   "source": [
    "from sklearn.metrics import confusion_matrix\n",
    "plot_confusion_matrix(confusion_matrix(y_test, y_pred), ['parfil1', 'perfil2', 'perfil3', 'perfil4', 'perfil5', 'perfil6'])"
   ]
  },
  {
   "cell_type": "code",
   "execution_count": 418,
   "metadata": {},
   "outputs": [
    {
     "name": "stdout",
     "output_type": "stream",
     "text": [
      "              precision    recall  f1-score   support\n",
      "\n",
      "     perfil1       0.82      0.82      0.82       310\n",
      "     perfil2       0.85      0.85      0.85       534\n",
      "     perfil3       0.82      0.81      0.81       122\n",
      "     perfil4       0.85      0.82      0.84       210\n",
      "     perfil5       0.81      0.84      0.82       229\n",
      "     perfil6       0.85      0.85      0.85       519\n",
      "\n",
      "   micro avg       0.84      0.84      0.84      1924\n",
      "   macro avg       0.83      0.83      0.83      1924\n",
      "weighted avg       0.84      0.84      0.84      1924\n",
      "\n"
     ]
    }
   ],
   "source": [
    "print(classification_report(y_test, y_pred)) "
   ]
  }
 ],
 "metadata": {
  "kernelspec": {
   "display_name": "Python 3",
   "language": "python",
   "name": "python3"
  },
  "language_info": {
   "codemirror_mode": {
    "name": "ipython",
    "version": 3
   },
   "file_extension": ".py",
   "mimetype": "text/x-python",
   "name": "python",
   "nbconvert_exporter": "python",
   "pygments_lexer": "ipython3",
   "version": "3.7.4"
  }
 },
 "nbformat": 4,
 "nbformat_minor": 1
}
